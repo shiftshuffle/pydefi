{
 "cells": [
  {
   "cell_type": "markdown",
   "metadata": {},
   "source": [
    "##Renverse moi *si tu peux* \n",
    "\n",
    "###Chifrement\n",
    "\n",
    "\n",
    "$$ Key =[ SK_0,SK_1,SK_2 ... SK_{19}] $$\n",
    "\n",
    "$$KeyA= 0 \\oplus SK_0 \\oplus SK_1  ...  \\oplus SK_{19}$$\n",
    "\n",
    "$$nKeypos = mod(KeyA,20)$$\n",
    "\n",
    "$$chiffre = clair\\oplus(SK_{nKeypos}*KeyA)$$\n",
    "\n",
    "$$KeyA= mod(KeyA+chiffre,256)$$\n",
    "\n",
    "$$nkeypos=mod(chiffre,20)$$\n",
    "\n",
    "\n"
   ]
  },
  {
   "cell_type": "code",
   "execution_count": 1,
   "metadata": {
    "collapsed": false
   },
   "outputs": [
    {
     "data": {
      "text/plain": [
       "\"87 e1 79 dc 7b ae e6 cb 31 e 12 62 9a e6 cc 24 87 3 65 84 32 fe d5\""
      ]
     },
     "execution_count": 1,
     "metadata": {},
     "output_type": "execute_result"
    }
   ],
   "source": [
    "Key=rand(0:255,20)\n",
    "clair=\"hello this is a test :)\"\n",
    "crypted=String[]\n",
    "decrypted=Char[]\n",
    "chiff=Uint8[]\n",
    "\n",
    "\n",
    "KeyA=0\n",
    "for i in Key\n",
    "    KeyA$=i\n",
    "end\n",
    "\n",
    "# KeyA=convert(Uint8,KeyA)\n",
    "nKeypos=(KeyA%20)+1\n",
    "\n",
    "\n",
    "for i =1:length(clair)\n",
    "    chiffre=clair[i]$Key[nKeypos]*KeyA\n",
    "    #crypted*=hex(chiffre)*\" \"\n",
    "    chiffre=convert(Uint8,chiffre)\n",
    "    push!(crypted,hex(chiffre))\n",
    "    push!(chiff,chiffre)\n",
    "    #println(hex(chiffre))\n",
    "    KeyA=(KeyA+chiffre)%256\n",
    "    nKeypos=chiffre%20+1\n",
    "end\n",
    "\n",
    "join(crypted,\" \")\n"
   ]
  },
  {
   "cell_type": "code",
   "execution_count": 48,
   "metadata": {
    "collapsed": false
   },
   "outputs": [
    {
     "data": {
      "text/plain": [
       "\"hello this is a test :)hello this is a test :)\""
      ]
     },
     "execution_count": 48,
     "metadata": {},
     "output_type": "execute_result"
    }
   ],
   "source": [
    "KeyA=0\n",
    "for i in Key\n",
    "    KeyA$=i\n",
    "end\n",
    "\n",
    "# KeyA=convert(Uint8,KeyA)\n",
    "nKeypos=(KeyA%20)+1\n",
    "\n",
    "\n",
    "for i =1:length(clair)\n",
    "    clear=chiff[i]$Key[nKeypos]*KeyA\n",
    "    #crypted*=hex(chiffre)*\" \"\n",
    "    clear=convert(Uint8,clear)\n",
    "    clear=char(clear)\n",
    "    push!(decrypted,clear)\n",
    "    #println(hex(chiffre))\n",
    "    KeyA=(KeyA+chiff[i])%256\n",
    "    nKeypos=chiff[i]%20+1\n",
    "end\n",
    "\n",
    "join(decrypted,\"\")\n"
   ]
  },
  {
   "cell_type": "code",
   "execution_count": 49,
   "metadata": {
    "collapsed": false
   },
   "outputs": [
    {
     "name": "stdout",
     "output_type": "stream",
     "text": [
      "173\n",
      "139\n",
      "14\n",
      "[162,104,155,118,172,1,151,4,138,233,251,250,13,139,102,37,149,93,31,196]\n",
      "239\n"
     ]
    }
   ],
   "source": [
    "KeyA=0\n",
    "for i in Key\n",
    "    KeyA$=i\n",
    "end\n",
    "\n",
    "# KeyA=convert(Uint8,KeyA)\n",
    "println(KeyA)\n",
    "println(Key[(KeyA%20)+1])\n",
    "println((KeyA%20)+1)\n",
    "println(Key)\n",
    "# println(Key[(KeyA%20)+1]*KeyA)\n",
    "l=Key[(KeyA%20)+1]*KeyA\n",
    "# println(l%256)\n",
    "l=convert(Uint8,l)\n",
    "println(l)"
   ]
  },
  {
   "cell_type": "code",
   "execution_count": 50,
   "metadata": {
    "collapsed": false
   },
   "outputs": [
    {
     "name": "stdout",
     "output_type": "stream",
     "text": [
      "Uint64[16,6,2,1,4,15,11,4]\n",
      "5\n"
     ]
    }
   ],
   "source": [
    "n=(KeyA%20)+1\n",
    "# println(n)\n",
    "nu=Uint64[]\n",
    "for i=1:length(chiff)\n",
    "    n=(chiff[i]%20)+1\n",
    "    if n in nu\n",
    "#         println(n)\n",
    "        break\n",
    "    else\n",
    "    push!(nu,n)\n",
    "    end   \n",
    "end\n",
    "\n",
    "m=findin(nu,n)[1]\n",
    "push!(nu,n)\n",
    "println(nu)\n",
    "nu=nu[m:end]\n",
    "println(m)\n"
   ]
  },
  {
   "cell_type": "code",
   "execution_count": 51,
   "metadata": {
    "collapsed": false
   },
   "outputs": [
    {
     "name": "stdout",
     "output_type": "stream",
     "text": [
      "Uint64[16,6,2,1,4,15,11,4,10,15,19,19,15,11,5,17,16,4,2,13,11,15]\n"
     ]
    }
   ],
   "source": [
    "n=(KeyA%20)+1\n",
    "nustop=Uint64[]\n",
    "for i=1:length(chiff)-1\n",
    "    n=(chiff[i]%20)+1\n",
    "    push!(nustop,n)\n",
    "end\n",
    "\n",
    "println(nustop)"
   ]
  },
  {
   "cell_type": "markdown",
   "metadata": {},
   "source": [
    "##dÃ©ductions\n",
    "\n",
    "$$chiff[m+1] \\oplus clair[m+1] = KeyA*SK_{nKeypos}$$\n",
    "\n",
    "$$KeyA=mod(KeyA+chiff[m+1],256)$$\n",
    "\n",
    "$$...$$\n",
    "\n",
    "$$KeyA=mod(KeyA+chiff[m+s],256)$$\n",
    "\n",
    "$$chiff[m+s+1] \\oplus clair[m+s+1] = KeyA*SK_{nKeypos}$$\n"
   ]
  },
  {
   "cell_type": "code",
   "execution_count": 69,
   "metadata": {
    "collapsed": false
   },
   "outputs": [
    {
     "name": "stdout",
     "output_type": "stream",
     "text": [
      "26\n",
      "35\n",
      "26\n",
      "163\n",
      "101\n",
      "118\n",
      "229\n",
      "118\n"
     ]
    }
   ],
   "source": [
    "s=length(nu)\n",
    "possibleKeyA=Int[]\n",
    "possibleKeyA2=Int[]\n",
    "possibleValues=Int[]\n",
    "f=(Int => Array)[]\n",
    "f2=(Int => Array)[]\n",
    "\n",
    "\n",
    "\n",
    "for i=0:255\n",
    "    f[i]=Int[]\n",
    "end\n",
    "\n",
    "for i=0:255\n",
    "    f2[i]=Int[]\n",
    "end\n",
    "\n",
    "for j=0:255\n",
    "    for i=0:255\n",
    "        if (i*j)%256==chiff[m+1]$clair[m+1]\n",
    "            push!(f[j],i)\n",
    "#             println((j,i))\n",
    "        end\n",
    "    end\n",
    "end\n",
    "\n",
    "for j=0:255\n",
    "    for i=0:255\n",
    "        if (i*j)%256==chiff[m+s]$clair[m+s]\n",
    "            push!(f2[j],i)\n",
    "#             println((j,i))\n",
    "        end\n",
    "    end\n",
    "end\n",
    "\n",
    "\n",
    "\n",
    "for i=0:255\n",
    "    if f[i]!=[]\n",
    "        sKeyA=i\n",
    "        csKeyA=sKeyA\n",
    "        for i=m+1:m+s\n",
    "        csKeyA=(csKeyA+chiff[i])%256\n",
    "            for value in f[sKeyA]\n",
    "                if in(value,f2[csKeyA])\n",
    "                    println(sKeyA)\n",
    "                    push!(possibleKeyA,sKeyA)\n",
    "                    push!(possibleKeyA2,csKeyA)\n",
    "                    push!(possibleValues,value)\n",
    "                    println(value)\n",
    "                end\n",
    "            end\n",
    "        end\n",
    "    end\n",
    "end"
   ]
  },
  {
   "cell_type": "code",
   "execution_count": 70,
   "metadata": {
    "collapsed": false
   },
   "outputs": [
    {
     "name": "stdout",
     "output_type": "stream",
     "text": [
      "[26,26,101,229]\n",
      "[200,200,196,68]\n"
     ]
    }
   ],
   "source": [
    "println(possibleKeyA)\n",
    "println(possibleKeyA2)"
   ]
  },
  {
   "cell_type": "code",
   "execution_count": 71,
   "metadata": {
    "collapsed": false
   },
   "outputs": [
    {
     "name": "stdout",
     "output_type": "stream",
     "text": [
      "[93,93,168,40]\n"
     ]
    }
   ],
   "source": [
    "ancientKeyA=Int[]\n",
    "\n",
    "for i=1:length(possibleKeyA)\n",
    "    sKeyA=possibleKeyA[i]\n",
    "    for i=1:m-1\n",
    "        sKeyA=(sKeyA-chiff[m-i])%256\n",
    "    end\n",
    "\n",
    "    if m==1\n",
    "    sKeyA=(sKeyA-chiff[1])%256\n",
    "    end\n",
    "    push!(ancientKeyA,sKeyA)\n",
    "end\n",
    "\n",
    "\n",
    "println(ancientKeyA+256)"
   ]
  },
  {
   "cell_type": "code",
   "execution_count": 72,
   "metadata": {
    "collapsed": false
   },
   "outputs": [
    {
     "name": "stdout",
     "output_type": "stream",
     "text": [
      "[35,163,118,118]\n"
     ]
    }
   ],
   "source": [
    "SK=[0 for i=1:20] \n",
    "\n",
    "for i=0:255\n",
    "    if (possibleKeyA[1]*i)%256==chiff[1]$clair[1]\n",
    "        println((possibleKeyA[1],i))\n",
    "    end\n",
    "end\n",
    "println(possibleValues)\n",
    "\n"
   ]
  },
  {
   "cell_type": "code",
   "execution_count": 73,
   "metadata": {
    "collapsed": false
   },
   "outputs": [
    {
     "data": {
      "text/plain": [
       "35"
      ]
     },
     "execution_count": 73,
     "metadata": {},
     "output_type": "execute_result"
    }
   ],
   "source": [
    "possibleKeyA\n",
    "SK[nu[1]]=possibleValues[1]\n",
    "SK[nu[2]]=possibleValues[1]"
   ]
  },
  {
   "cell_type": "code",
   "execution_count": null,
   "metadata": {
    "collapsed": true
   },
   "outputs": [],
   "source": []
  },
  {
   "cell_type": "code",
   "execution_count": null,
   "metadata": {
    "collapsed": true
   },
   "outputs": [],
   "source": []
  }
 ],
 "metadata": {
  "kernelspec": {
   "display_name": "Julia 0.3.7",
   "language": "julia",
   "name": "julia 0.3"
  },
  "language_info": {
   "name": "julia",
   "version": "0.3.7"
  },
  "name": "clean_renversemoi.ipynb"
 },
 "nbformat": 4,
 "nbformat_minor": 0
}
