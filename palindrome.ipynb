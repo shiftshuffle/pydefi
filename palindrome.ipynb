{
 "cells": [
  {
   "cell_type": "code",
   "execution_count": 1,
   "metadata": {
    "collapsed": false
   },
   "outputs": [
    {
     "name": "stdout",
     "output_type": "stream",
     "text": [
      "5"
     ]
    }
   ],
   "source": [
    "mini=10\n",
    "maxi=28\n",
    "\n",
    "\n",
    "function ispal(s)\n",
    "    s=\"$s\"\n",
    "    if s[1:int((length(s)-1)/2)]==reverse(s[int(length(s)/2)+1:end])\n",
    "        return true\n",
    "    else\n",
    "        return false\n",
    "    end\n",
    "end\n",
    "\n",
    "\n",
    "count=0\n",
    "for a=mini:maxi\n",
    "    for b=a:maxi\n",
    "        for c=b:maxi\n",
    "            for d=c:maxi\n",
    "                m=Int64[]\n",
    "                push!(m,a)\n",
    "                push!(m,b)\n",
    "                push!(m,c)\n",
    "                push!(m,d)\n",
    "                if ispal(prod(m)) & ispal(sum(m))\n",
    "                    count+=1\n",
    "                end\n",
    "            end\n",
    "        end\n",
    "    end\n",
    "end\n",
    "\n",
    "print(count)"
   ]
  }
 ],
 "metadata": {
  "kernelspec": {
   "display_name": "Julia 0.3.7",
   "language": "julia",
   "name": "julia 0.3"
  },
  "language_info": {
   "name": "julia",
   "version": "0.3.7"
  },
  "name": "palindrome.ipynb"
 },
 "nbformat": 4,
 "nbformat_minor": 0
}
